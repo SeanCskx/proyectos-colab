{
  "nbformat": 4,
  "nbformat_minor": 0,
  "metadata": {
    "colab": {
      "private_outputs": true,
      "provenance": [],
      "authorship_tag": "ABX9TyOOURX6JynnRq2d+6In3u1Q",
      "include_colab_link": true
    },
    "kernelspec": {
      "name": "python3",
      "display_name": "Python 3"
    },
    "language_info": {
      "name": "python"
    }
  },
  "cells": [
    {
      "cell_type": "markdown",
      "metadata": {
        "id": "view-in-github",
        "colab_type": "text"
      },
      "source": [
        "<a href=\"https://colab.research.google.com/github/SeanCskx/proyectos-colab/blob/main/Calculadora_Descuento.ipynb\" target=\"_parent\"><img src=\"https://colab.research.google.com/assets/colab-badge.svg\" alt=\"Open In Colab\"/></a>"
      ]
    },
    {
      "cell_type": "markdown",
      "source": [
        "# **VERSIÓN 2: AÑADIDO DESCUENTO PARA CLIENTES VIP**"
      ],
      "metadata": {
        "id": "2g2V9W14vqR6"
      }
    },
    {
      "cell_type": "code",
      "execution_count": null,
      "metadata": {
        "id": "oqLLsfEvvZjF"
      },
      "outputs": [],
      "source": [
        "def calcular_descuento_v2():\n",
        "    \"\"\"\n",
        "    Función principal para la Versión 2 del programa.\n",
        "    \"\"\"\n",
        "    print(\"--- Calculadora de Descuentos (Versión 2 - con VIP) ---\")\n",
        "\n",
        "    try:\n",
        "        monto_total = float(input(\"Introduce el monto total de la compra en S/: \"))\n",
        "\n",
        "        # --- NUEVA PREGUNTA AÑADIDA EN V2 ---\n",
        "        es_vip = input(\"¿El cliente es VIP? (si/no): \").lower()\n",
        "\n",
        "        descuento = 0.0\n",
        "        porcentaje_info = \"0%\"\n",
        "\n",
        "        if monto_total > 500:\n",
        "            porcentaje_info = \"20%\"\n",
        "            descuento = monto_total * 0.20\n",
        "        elif monto_total >= 200:\n",
        "            porcentaje_info = \"10%\"\n",
        "            descuento = monto_total * 0.10\n",
        "\n",
        "        # --- NUEVA LÓGICA AÑADIDA EN V2 ---\n",
        "        if es_vip == 'si':\n",
        "            print(\"Aplicando 5% de descuento VIP adicional...\")\n",
        "            descuento += monto_total * 0.05\n",
        "            porcentaje_info += \" + 5% VIP\"\n",
        "\n",
        "        precio_final = monto_total - descuento\n",
        "\n",
        "        print(\"\\n--- Recibo de Compra ---\")\n",
        "        print(f\"Monto Original: S/ {monto_total:.2f}\")\n",
        "        print(f\"Descuento Aplicado ({porcentaje_info}): S/ {descuento:.2f}\")\n",
        "        print(f\"Total a Pagar: S/ {precio_final:.2f}\\n\")\n",
        "\n",
        "    except ValueError:\n",
        "        print(\"Error: Por favor, introduce un número válido.\\n\")\n",
        "\n",
        "# Ejecutar el programa\n",
        "calcular_descuento_v2()"
      ]
    }
  ]
}